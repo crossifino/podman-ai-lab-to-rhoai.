{
 "cells": [
  {
   "attachments": {},
   "cell_type": "markdown",
   "id": "3420575b-4d00-458b-aa0e-7030008ccd53",
   "metadata": {
    "tags": []
   },
   "source": [
    "## Creating an index and populating it with documents using Elasticsearch\n",
    "\n",
    "Simple example on how to ingest PDF documents, then web pages content into an Elasticsearch VectorStore.\n",
    "\n",
    "Requirements:\n",
    "- A Elasticsearch cluster deployed on OpenShift\n"
   ]
  },
  {
   "attachments": {},
   "cell_type": "markdown",
   "id": "8308b229-b520-4e82-a783-eb921bb955e7",
   "metadata": {
    "tags": []
   },
   "source": [
    "### Needed packages"
   ]
  },
  {
   "cell_type": "code",
   "execution_count": null,
   "id": "91e41b41-f60a-4b0f-91a1-cd273b60f21b",
   "metadata": {
    "tags": []
   },
   "outputs": [
    {
     "name": "stdout",
     "output_type": "stream",
     "text": [
      "Requirement already satisfied: elasticsearch in /opt/app-root/lib/python3.8/site-packages (8.13.2)\n",
      "Requirement already satisfied: elastic-transport<9,>=8.13 in /opt/app-root/lib/python3.8/site-packages (from elasticsearch) (8.13.1)\n",
      "Requirement already satisfied: urllib3<3,>=1.26.2 in /opt/app-root/lib/python3.8/site-packages (from elastic-transport<9,>=8.13->elasticsearch) (1.26.16)\n",
      "Requirement already satisfied: certifi in /opt/app-root/lib/python3.8/site-packages (from elastic-transport<9,>=8.13->elasticsearch) (2023.7.22)\n",
      "Requirement already satisfied: openai in /opt/app-root/lib/python3.8/site-packages (1.30.5)\n",
      "Requirement already satisfied: pydantic<3,>=1.9.0 in /opt/app-root/lib/python3.8/site-packages (from openai) (1.10.13)\n",
      "Requirement already satisfied: typing-extensions<5,>=4.7 in /opt/app-root/lib/python3.8/site-packages (from openai) (4.12.0)\n",
      "Requirement already satisfied: anyio<5,>=3.5.0 in /opt/app-root/lib/python3.8/site-packages (from openai) (3.7.1)\n",
      "Requirement already satisfied: httpx<1,>=0.23.0 in /opt/app-root/lib/python3.8/site-packages (from openai) (0.27.0)\n",
      "Requirement already satisfied: sniffio in /opt/app-root/lib/python3.8/site-packages (from openai) (1.3.0)\n",
      "Requirement already satisfied: distro<2,>=1.7.0 in /opt/app-root/lib/python3.8/site-packages (from openai) (1.9.0)\n",
      "Requirement already satisfied: tqdm>4 in /opt/app-root/lib/python3.8/site-packages (from openai) (4.66.1)\n",
      "Requirement already satisfied: idna>=2.8 in /opt/app-root/lib/python3.8/site-packages (from anyio<5,>=3.5.0->openai) (3.4)\n",
      "Requirement already satisfied: exceptiongroup in /opt/app-root/lib/python3.8/site-packages (from anyio<5,>=3.5.0->openai) (1.1.3)\n",
      "Requirement already satisfied: httpcore==1.* in /opt/app-root/lib/python3.8/site-packages (from httpx<1,>=0.23.0->openai) (1.0.5)\n",
      "Requirement already satisfied: certifi in /opt/app-root/lib/python3.8/site-packages (from httpx<1,>=0.23.0->openai) (2023.7.22)\n",
      "Requirement already satisfied: h11<0.15,>=0.13 in /opt/app-root/lib/python3.8/site-packages (from httpcore==1.*->httpx<1,>=0.23.0->openai) (0.14.0)\n",
      "Requirement already satisfied: huggingface in /opt/app-root/lib/python3.8/site-packages (0.0.1)\n",
      "Requirement already satisfied: sentence_transformers in /opt/app-root/lib/python3.8/site-packages (3.0.0)\n",
      "Requirement already satisfied: scipy in /opt/app-root/lib/python3.8/site-packages (from sentence_transformers) (1.10.1)\n",
      "Requirement already satisfied: transformers<5.0.0,>=4.34.0 in /opt/app-root/lib/python3.8/site-packages (from sentence_transformers) (4.41.1)\n",
      "Requirement already satisfied: torch>=1.11.0 in /opt/app-root/lib/python3.8/site-packages (from sentence_transformers) (2.0.1a0+gitdefeb45)\n",
      "Requirement already satisfied: Pillow in /opt/app-root/lib/python3.8/site-packages (from sentence_transformers) (10.3.0)\n",
      "Requirement already satisfied: huggingface-hub>=0.15.1 in /opt/app-root/lib/python3.8/site-packages (from sentence_transformers) (0.23.2)\n",
      "Requirement already satisfied: scikit-learn in /opt/app-root/lib/python3.8/site-packages (from sentence_transformers) (1.2.2)\n",
      "Requirement already satisfied: tqdm in /opt/app-root/lib/python3.8/site-packages (from sentence_transformers) (4.66.1)\n",
      "Requirement already satisfied: numpy in /opt/app-root/lib/python3.8/site-packages (from sentence_transformers) (1.23.5)\n",
      "Requirement already satisfied: packaging>=20.9 in /opt/app-root/lib/python3.8/site-packages (from huggingface-hub>=0.15.1->sentence_transformers) (23.2)\n",
      "Requirement already satisfied: fsspec>=2023.5.0 in /opt/app-root/lib/python3.8/site-packages (from huggingface-hub>=0.15.1->sentence_transformers) (2023.9.2)\n",
      "Requirement already satisfied: requests in /opt/app-root/lib/python3.8/site-packages (from huggingface-hub>=0.15.1->sentence_transformers) (2.31.0)\n",
      "Requirement already satisfied: filelock in /opt/app-root/lib/python3.8/site-packages (from huggingface-hub>=0.15.1->sentence_transformers) (3.12.4)\n",
      "Requirement already satisfied: typing-extensions>=3.7.4.3 in /opt/app-root/lib/python3.8/site-packages (from huggingface-hub>=0.15.1->sentence_transformers) (4.12.0)\n",
      "Requirement already satisfied: pyyaml>=5.1 in /opt/app-root/lib/python3.8/site-packages (from huggingface-hub>=0.15.1->sentence_transformers) (6.0)\n",
      "Requirement already satisfied: jinja2 in /opt/app-root/lib/python3.8/site-packages (from torch>=1.11.0->sentence_transformers) (3.1.2)\n",
      "Requirement already satisfied: sympy in /opt/app-root/lib/python3.8/site-packages (from torch>=1.11.0->sentence_transformers) (1.12)\n",
      "Requirement already satisfied: networkx in /opt/app-root/lib/python3.8/site-packages (from torch>=1.11.0->sentence_transformers) (3.1)\n",
      "Requirement already satisfied: tokenizers<0.20,>=0.19 in /opt/app-root/lib/python3.8/site-packages (from transformers<5.0.0,>=4.34.0->sentence_transformers) (0.19.1)\n",
      "Requirement already satisfied: safetensors>=0.4.1 in /opt/app-root/lib/python3.8/site-packages (from transformers<5.0.0,>=4.34.0->sentence_transformers) (0.4.3)\n",
      "Requirement already satisfied: regex!=2019.12.17 in /opt/app-root/lib/python3.8/site-packages (from transformers<5.0.0,>=4.34.0->sentence_transformers) (2024.5.15)\n",
      "Requirement already satisfied: joblib>=1.1.1 in /opt/app-root/lib/python3.8/site-packages (from scikit-learn->sentence_transformers) (1.3.2)\n",
      "Requirement already satisfied: threadpoolctl>=2.0.0 in /opt/app-root/lib/python3.8/site-packages (from scikit-learn->sentence_transformers) (3.2.0)\n",
      "Requirement already satisfied: MarkupSafe>=2.0 in /opt/app-root/lib/python3.8/site-packages (from jinja2->torch>=1.11.0->sentence_transformers) (2.1.3)\n",
      "Requirement already satisfied: charset-normalizer<4,>=2 in /opt/app-root/lib/python3.8/site-packages (from requests->huggingface-hub>=0.15.1->sentence_transformers) (3.3.0)\n",
      "Requirement already satisfied: idna<4,>=2.5 in /opt/app-root/lib/python3.8/site-packages (from requests->huggingface-hub>=0.15.1->sentence_transformers) (3.4)\n",
      "Requirement already satisfied: certifi>=2017.4.17 in /opt/app-root/lib/python3.8/site-packages (from requests->huggingface-hub>=0.15.1->sentence_transformers) (2023.7.22)\n",
      "Requirement already satisfied: urllib3<3,>=1.21.1 in /opt/app-root/lib/python3.8/site-packages (from requests->huggingface-hub>=0.15.1->sentence_transformers) (1.26.16)\n",
      "Requirement already satisfied: mpmath>=0.19 in /opt/app-root/lib/python3.8/site-packages (from sympy->torch>=1.11.0->sentence_transformers) (1.3.0)\n",
      "Requirement already satisfied: langchain in /opt/app-root/lib/python3.8/site-packages (0.2.1)\n",
      "Requirement already satisfied: tenacity<9.0.0,>=8.1.0 in /opt/app-root/lib/python3.8/site-packages (from langchain) (8.2.3)\n",
      "Requirement already satisfied: requests<3,>=2 in /opt/app-root/lib/python3.8/site-packages (from langchain) (2.31.0)\n",
      "Requirement already satisfied: pydantic<3,>=1 in /opt/app-root/lib/python3.8/site-packages (from langchain) (1.10.13)\n",
      "Requirement already satisfied: PyYAML>=5.3 in /opt/app-root/lib/python3.8/site-packages (from langchain) (6.0)\n",
      "Requirement already satisfied: langchain-core<0.3.0,>=0.2.0 in /opt/app-root/lib/python3.8/site-packages (from langchain) (0.2.2)\n",
      "Requirement already satisfied: async-timeout<5.0.0,>=4.0.0 in /opt/app-root/lib/python3.8/site-packages (from langchain) (4.0.3)\n",
      "Requirement already satisfied: numpy<2,>=1 in /opt/app-root/lib/python3.8/site-packages (from langchain) (1.23.5)\n",
      "Requirement already satisfied: langsmith<0.2.0,>=0.1.17 in /opt/app-root/lib/python3.8/site-packages (from langchain) (0.1.65)\n",
      "Requirement already satisfied: SQLAlchemy<3,>=1.4 in /opt/app-root/lib/python3.8/site-packages (from langchain) (2.0.30)\n",
      "Requirement already satisfied: aiohttp<4.0.0,>=3.8.3 in /opt/app-root/lib/python3.8/site-packages (from langchain) (3.8.5)\n",
      "Requirement already satisfied: langchain-text-splitters<0.3.0,>=0.2.0 in /opt/app-root/lib/python3.8/site-packages (from langchain) (0.2.0)\n",
      "Requirement already satisfied: multidict<7.0,>=4.5 in /opt/app-root/lib/python3.8/site-packages (from aiohttp<4.0.0,>=3.8.3->langchain) (6.0.4)\n",
      "Requirement already satisfied: attrs>=17.3.0 in /opt/app-root/lib/python3.8/site-packages (from aiohttp<4.0.0,>=3.8.3->langchain) (23.1.0)\n",
      "Requirement already satisfied: aiosignal>=1.1.2 in /opt/app-root/lib/python3.8/site-packages (from aiohttp<4.0.0,>=3.8.3->langchain) (1.3.1)\n",
      "Requirement already satisfied: charset-normalizer<4.0,>=2.0 in /opt/app-root/lib/python3.8/site-packages (from aiohttp<4.0.0,>=3.8.3->langchain) (3.3.0)\n",
      "Requirement already satisfied: yarl<2.0,>=1.0 in /opt/app-root/lib/python3.8/site-packages (from aiohttp<4.0.0,>=3.8.3->langchain) (1.9.2)\n",
      "Requirement already satisfied: frozenlist>=1.1.1 in /opt/app-root/lib/python3.8/site-packages (from aiohttp<4.0.0,>=3.8.3->langchain) (1.4.0)\n",
      "Requirement already satisfied: packaging<24.0,>=23.2 in /opt/app-root/lib/python3.8/site-packages (from langchain-core<0.3.0,>=0.2.0->langchain) (23.2)\n",
      "Requirement already satisfied: jsonpatch<2.0,>=1.33 in /opt/app-root/lib/python3.8/site-packages (from langchain-core<0.3.0,>=0.2.0->langchain) (1.33)\n",
      "Requirement already satisfied: orjson<4.0.0,>=3.9.14 in /opt/app-root/lib/python3.8/site-packages (from langsmith<0.2.0,>=0.1.17->langchain) (3.10.3)\n",
      "Requirement already satisfied: typing-extensions>=4.2.0 in /opt/app-root/lib/python3.8/site-packages (from pydantic<3,>=1->langchain) (4.12.0)\n",
      "Requirement already satisfied: certifi>=2017.4.17 in /opt/app-root/lib/python3.8/site-packages (from requests<3,>=2->langchain) (2023.7.22)\n",
      "Requirement already satisfied: idna<4,>=2.5 in /opt/app-root/lib/python3.8/site-packages (from requests<3,>=2->langchain) (3.4)\n",
      "Requirement already satisfied: urllib3<3,>=1.21.1 in /opt/app-root/lib/python3.8/site-packages (from requests<3,>=2->langchain) (1.26.16)\n",
      "Requirement already satisfied: greenlet!=0.4.17 in /opt/app-root/lib/python3.8/site-packages (from SQLAlchemy<3,>=1.4->langchain) (3.0.3)\n",
      "Requirement already satisfied: jsonpointer>=1.9 in /opt/app-root/lib/python3.8/site-packages (from jsonpatch<2.0,>=1.33->langchain-core<0.3.0,>=0.2.0->langchain) (2.4)\n",
      "Requirement already satisfied: langchain_community in /opt/app-root/lib/python3.8/site-packages (0.2.1)\n",
      "Requirement already satisfied: PyYAML>=5.3 in /opt/app-root/lib/python3.8/site-packages (from langchain_community) (6.0)\n",
      "Requirement already satisfied: dataclasses-json<0.7,>=0.5.7 in /opt/app-root/lib/python3.8/site-packages (from langchain_community) (0.6.6)\n",
      "Requirement already satisfied: aiohttp<4.0.0,>=3.8.3 in /opt/app-root/lib/python3.8/site-packages (from langchain_community) (3.8.5)\n",
      "Requirement already satisfied: numpy<2,>=1 in /opt/app-root/lib/python3.8/site-packages (from langchain_community) (1.23.5)\n",
      "Requirement already satisfied: tenacity<9.0.0,>=8.1.0 in /opt/app-root/lib/python3.8/site-packages (from langchain_community) (8.2.3)\n",
      "Requirement already satisfied: langchain-core<0.3.0,>=0.2.0 in /opt/app-root/lib/python3.8/site-packages (from langchain_community) (0.2.2)\n",
      "Requirement already satisfied: langsmith<0.2.0,>=0.1.0 in /opt/app-root/lib/python3.8/site-packages (from langchain_community) (0.1.65)\n",
      "Requirement already satisfied: SQLAlchemy<3,>=1.4 in /opt/app-root/lib/python3.8/site-packages (from langchain_community) (2.0.30)\n",
      "Requirement already satisfied: langchain<0.3.0,>=0.2.0 in /opt/app-root/lib/python3.8/site-packages (from langchain_community) (0.2.1)\n",
      "Requirement already satisfied: requests<3,>=2 in /opt/app-root/lib/python3.8/site-packages (from langchain_community) (2.31.0)\n",
      "Requirement already satisfied: multidict<7.0,>=4.5 in /opt/app-root/lib/python3.8/site-packages (from aiohttp<4.0.0,>=3.8.3->langchain_community) (6.0.4)\n",
      "Requirement already satisfied: aiosignal>=1.1.2 in /opt/app-root/lib/python3.8/site-packages (from aiohttp<4.0.0,>=3.8.3->langchain_community) (1.3.1)\n",
      "Requirement already satisfied: yarl<2.0,>=1.0 in /opt/app-root/lib/python3.8/site-packages (from aiohttp<4.0.0,>=3.8.3->langchain_community) (1.9.2)\n",
      "Requirement already satisfied: charset-normalizer<4.0,>=2.0 in /opt/app-root/lib/python3.8/site-packages (from aiohttp<4.0.0,>=3.8.3->langchain_community) (3.3.0)\n",
      "Requirement already satisfied: frozenlist>=1.1.1 in /opt/app-root/lib/python3.8/site-packages (from aiohttp<4.0.0,>=3.8.3->langchain_community) (1.4.0)\n",
      "Requirement already satisfied: async-timeout<5.0,>=4.0.0a3 in /opt/app-root/lib/python3.8/site-packages (from aiohttp<4.0.0,>=3.8.3->langchain_community) (4.0.3)\n",
      "Requirement already satisfied: attrs>=17.3.0 in /opt/app-root/lib/python3.8/site-packages (from aiohttp<4.0.0,>=3.8.3->langchain_community) (23.1.0)\n",
      "Requirement already satisfied: typing-inspect<1,>=0.4.0 in /opt/app-root/lib/python3.8/site-packages (from dataclasses-json<0.7,>=0.5.7->langchain_community) (0.9.0)\n",
      "Requirement already satisfied: marshmallow<4.0.0,>=3.18.0 in /opt/app-root/lib/python3.8/site-packages (from dataclasses-json<0.7,>=0.5.7->langchain_community) (3.21.2)\n",
      "Requirement already satisfied: pydantic<3,>=1 in /opt/app-root/lib/python3.8/site-packages (from langchain<0.3.0,>=0.2.0->langchain_community) (1.10.13)\n",
      "Requirement already satisfied: langchain-text-splitters<0.3.0,>=0.2.0 in /opt/app-root/lib/python3.8/site-packages (from langchain<0.3.0,>=0.2.0->langchain_community) (0.2.0)\n",
      "Requirement already satisfied: packaging<24.0,>=23.2 in /opt/app-root/lib/python3.8/site-packages (from langchain-core<0.3.0,>=0.2.0->langchain_community) (23.2)\n",
      "Requirement already satisfied: jsonpatch<2.0,>=1.33 in /opt/app-root/lib/python3.8/site-packages (from langchain-core<0.3.0,>=0.2.0->langchain_community) (1.33)\n",
      "Requirement already satisfied: orjson<4.0.0,>=3.9.14 in /opt/app-root/lib/python3.8/site-packages (from langsmith<0.2.0,>=0.1.0->langchain_community) (3.10.3)\n",
      "Requirement already satisfied: certifi>=2017.4.17 in /opt/app-root/lib/python3.8/site-packages (from requests<3,>=2->langchain_community) (2023.7.22)\n",
      "Requirement already satisfied: idna<4,>=2.5 in /opt/app-root/lib/python3.8/site-packages (from requests<3,>=2->langchain_community) (3.4)\n",
      "Requirement already satisfied: urllib3<3,>=1.21.1 in /opt/app-root/lib/python3.8/site-packages (from requests<3,>=2->langchain_community) (1.26.16)\n",
      "Requirement already satisfied: greenlet!=0.4.17 in /opt/app-root/lib/python3.8/site-packages (from SQLAlchemy<3,>=1.4->langchain_community) (3.0.3)\n",
      "Requirement already satisfied: typing-extensions>=4.6.0 in /opt/app-root/lib/python3.8/site-packages (from SQLAlchemy<3,>=1.4->langchain_community) (4.12.0)\n",
      "Requirement already satisfied: jsonpointer>=1.9 in /opt/app-root/lib/python3.8/site-packages (from jsonpatch<2.0,>=1.33->langchain-core<0.3.0,>=0.2.0->langchain_community) (2.4)\n",
      "Requirement already satisfied: mypy-extensions>=0.3.0 in /opt/app-root/lib/python3.8/site-packages (from typing-inspect<1,>=0.4.0->dataclasses-json<0.7,>=0.5.7->langchain_community) (1.0.0)\n",
      "Requirement already satisfied: pypdf in /opt/app-root/lib/python3.8/site-packages (4.2.0)\n",
      "Requirement already satisfied: typing_extensions>=4.0 in /opt/app-root/lib/python3.8/site-packages (from pypdf) (4.12.0)\n"
     ]
    }
   ],
   "source": [
    "!pip install --upgrade pip\n",
    "!pip install accelerate\n",
    "!pip install elasticsearch\n",
    "!pip install huggingface\n",
    "!pip install langchain\n",
    "!pip install langchain_community\n",
    "!pip install langchain-huggingface\n",
    "!pip install openai\n",
    "!pip install pypdf\n",
    "!pip install sentence-transformers\n",
    "!pip install transformers\n",
    "!pip install torch"
   ]
  },
  {
   "attachments": {},
   "cell_type": "markdown",
   "id": "1a82063d-6153-4812-8977-042241736b53",
   "metadata": {},
   "source": [
    "### Base parameters, the Elasticsearch info"
   ]
  },
  {
   "cell_type": "code",
   "execution_count": 2,
   "id": "417ed4a4-9418-4f48-bebd-ef0ea11ae434",
   "metadata": {
    "tags": []
   },
   "outputs": [],
   "source": [
    "import os as os\n",
    "product_version = 2.11\n",
    "CONNECTION_STRING = os.environ.get('CONNECTION_STRING', 'default')\n",
    "PASSWORD = os.environ.get('PASSWORD', 'default')\n",
    "COLLECTION_NAME = f\"rhoai-doc-{product_version}\""
   ]
  },
  {
   "attachments": {},
   "cell_type": "markdown",
   "id": "daaea118-5ab1-4165-b735-8351dfbb81b9",
   "metadata": {},
   "source": [
    "### Verify Elasticsearch connection"
   ]
  },
  {
   "cell_type": "code",
   "execution_count": 7,
   "id": "bf81f73e-0a74-44d0-9131-f8571297b503",
   "metadata": {
    "tags": []
   },
   "outputs": [
    {
     "name": "stdout",
     "output_type": "stream",
     "text": [
      "Connected to Elasticsearch!\n"
     ]
    },
    {
     "name": "stderr",
     "output_type": "stream",
     "text": [
      "/opt/app-root/lib64/python3.8/site-packages/urllib3/connectionpool.py:1056: InsecureRequestWarning: Unverified HTTPS request is being made to host '172.30.120.82'. Adding certificate verification is strongly advised. See: https://urllib3.readthedocs.io/en/1.26.x/advanced-usage.html#ssl-warnings\n",
      "  warnings.warn(\n"
     ]
    }
   ],
   "source": [
    "from elasticsearch import Elasticsearch\n",
    "import sys as sys\n",
    "\n",
    "es = Elasticsearch(\n",
    "    'https://' + CONNECTION_STRING,\n",
    "    basic_auth=(\"elastic\", PASSWORD),\n",
    "    verify_certs=False\n",
    ")\n",
    "\n",
    "if es.ping():\n",
    "    print(\"Connected to Elasticsearch!\")\n",
    "else:\n",
    "    print(\"Could not connect to Elasticsearch. Terminating execution of notebook.\")\n",
    "    #Terminating execution\n",
    "    sys.exit()"
   ]
  },
  {
   "attachments": {},
   "cell_type": "markdown",
   "id": "9b499a49-128c-4be5-903b-76c40771c7bc",
   "metadata": {
    "tags": []
   },
   "source": [
    "#### Imports"
   ]
  },
  {
   "cell_type": "code",
   "execution_count": null,
   "id": "600cd763-6ecc-4c77-89c0-47108c31c44e",
   "metadata": {
    "tags": []
   },
   "outputs": [],
   "source": [
    "from langchain.document_loaders import PyPDFDirectoryLoader, WebBaseLoader\n",
    "from langchain.text_splitter import RecursiveCharacterTextSplitter\n",
    "from langchain.embeddings.huggingface import HuggingFaceEmbeddings"
   ]
  },
  {
   "attachments": {},
   "cell_type": "markdown",
   "id": "f68f6785-480e-4519-be4f-8e1738dba4ca",
   "metadata": {},
   "source": [
    "## Initial index creation and document ingestion"
   ]
  },
  {
   "attachments": {},
   "cell_type": "markdown",
   "id": "f8cff5f7-c509-48db-90b5-e15815b8b530",
   "metadata": {},
   "source": [
    "#### Download and load pdfs"
   ]
  },
  {
   "cell_type": "code",
   "execution_count": null,
   "id": "bc4fe0db-f494-4cbd-9e97-8b6359a78cb7",
   "metadata": {
    "tags": []
   },
   "outputs": [],
   "source": [
    "documents = [\n",
    "    \"release_notes\",\n",
    "    \"introduction_to_red_hat_openshift_ai\",\n",
    "    \"getting_started_with_red_hat_openshift_ai_self-managed\",\n",
    "    \"openshift_ai_tutorial_-_fraud_detection_example\",\n",
    "    \"developing_a_model\",\n",
    "    \"integrating_data_from_amazon_s3\",\n",
    "    \"working_on_data_science_projects\",\n",
    "    \"serving_models\",\n",
    "    \"monitoring_data_science_models\",\n",
    "    \"managing_users\",\n",
    "    \"managing_resources\",\n",
    "    \"installing_and_uninstalling_openshift_ai_self-managed\",\n",
    "    \"installing_and_uninstalling_openshift_ai_self-managed_in_a_disconnected_environment\",\n",
    "    \"upgrading_openshift_ai_self-managed\",\n",
    "    \"upgrading_openshift_ai_self-managed_in_a_disconnected_environment\",   \n",
    "]\n",
    "\n",
    "pdfs = [f\"https://access.redhat.com/documentation/en-us/red_hat_openshift_ai_self-managed/{product_version}/pdf/{doc}/red_hat_openshift_ai_self-managed-{product_version}-{doc}-en-us.pdf\" for doc in documents]\n",
    "pdfs_to_urls = {f\"red_hat_openshift_ai_self-managed-{product_version}-{doc}-en-us\": f\"https://access.redhat.com/documentation/en-us/red_hat_openshift_ai_self-managed/{product_version}/html-single/{doc}/index\" for doc in documents}"
   ]
  },
  {
   "cell_type": "code",
   "execution_count": null,
   "id": "3eea5acc-49df-41c9-a01a-0cdbca96e8e2",
   "metadata": {},
   "outputs": [],
   "source": [
    "import requests\n",
    "import os\n",
    "\n",
    "docs_dir = f\"rhoai-doc-{product_version}\"\n",
    "\n",
    "if not os.path.exists(docs_dir):\n",
    "    os.mkdir(docs_dir)\n",
    "\n",
    "for pdf in pdfs:\n",
    "    try:\n",
    "        response = requests.get(pdf)\n",
    "    except:\n",
    "        print(f\"Skipped {pdf}\")\n",
    "        continue\n",
    "    if response.status_code!=200:\n",
    "        print(f\"Skipped {pdf}\")\n",
    "        continue  \n",
    "    with open(f\"{docs_dir}/{pdf.split('/')[-1]}\", 'wb') as f:\n",
    "        f.write(response.content)"
   ]
  },
  {
   "cell_type": "code",
   "execution_count": null,
   "id": "af4074d4-eff4-45b2-902d-ec8c075a83ef",
   "metadata": {
    "tags": []
   },
   "outputs": [],
   "source": [
    "pdf_folder_path = f\"./rhoai-doc-{product_version}\"\n",
    "\n",
    "pdf_loader = PyPDFDirectoryLoader(pdf_folder_path)\n",
    "pdf_docs = pdf_loader.load()"
   ]
  },
  {
   "attachments": {},
   "cell_type": "markdown",
   "id": "cde7ed3a-0530-47a1-95c2-22db6c782a95",
   "metadata": {},
   "source": [
    "#### Inject metadata"
   ]
  },
  {
   "cell_type": "code",
   "execution_count": null,
   "id": "702230f6-e6d3-44c7-a643-4996387606ff",
   "metadata": {
    "tags": []
   },
   "outputs": [],
   "source": [
    "from pathlib import Path\n",
    "\n",
    "for doc in pdf_docs:\n",
    "    doc.metadata[\"source\"] = pdfs_to_urls[Path(doc.metadata[\"source\"]).stem]"
   ]
  },
  {
   "attachments": {},
   "cell_type": "markdown",
   "id": "dd511d44-2d92-47a0-9163-b25576c9557b",
   "metadata": {},
   "source": [
    "#### Load websites"
   ]
  },
  {
   "cell_type": "code",
   "execution_count": null,
   "id": "8aebf003-d7ec-43ba-8e04-1931bcff2866",
   "metadata": {
    "tags": []
   },
   "outputs": [],
   "source": [
    "websites = [\n",
    "    \"https://ai-on-openshift.io/getting-started/openshift/\",\n",
    "    \"https://ai-on-openshift.io/getting-started/opendatahub/\",\n",
    "    \"https://ai-on-openshift.io/getting-started/openshift-ai/\",\n",
    "    \"https://ai-on-openshift.io/odh-rhoai/configuration/\",\n",
    "    \"https://ai-on-openshift.io/odh-rhoai/custom-notebooks/\",\n",
    "    \"https://ai-on-openshift.io/odh-rhoai/nvidia-gpus/\",\n",
    "    \"https://ai-on-openshift.io/odh-rhoai/custom-runtime-triton/\",\n",
    "    \"https://ai-on-openshift.io/odh-rhoai/openshift-group-management/\",\n",
    "    \"https://ai-on-openshift.io/tools-and-applications/minio/minio/\",\n",
    "    \"https://access.redhat.com/articles/7047935\",\n",
    "    \"https://access.redhat.com/articles/rhoai-supported-configs\",\n",
    "]"
   ]
  },
  {
   "cell_type": "code",
   "execution_count": null,
   "id": "99f41110-8ca7-4d90-93b2-3b5021c894b8",
   "metadata": {
    "tags": []
   },
   "outputs": [],
   "source": [
    "website_loader = WebBaseLoader(websites)\n",
    "website_docs = website_loader.load()"
   ]
  },
  {
   "attachments": {},
   "cell_type": "markdown",
   "id": "157ddd29-54b3-474a-9b10-2d274bc3254f",
   "metadata": {},
   "source": [
    "#### Merge both types of docs"
   ]
  },
  {
   "cell_type": "code",
   "execution_count": null,
   "id": "8d361094-8b43-4351-8495-37628c35c42d",
   "metadata": {
    "tags": []
   },
   "outputs": [],
   "source": [
    "docs = pdf_docs + website_docs"
   ]
  },
  {
   "attachments": {},
   "cell_type": "markdown",
   "id": "4198fe0a-38bf-4cd4-af7d-35b41c645edd",
   "metadata": {},
   "source": [
    "#### Split documents into chunks with some overlap"
   ]
  },
  {
   "cell_type": "code",
   "execution_count": null,
   "id": "edba4a08-2194-4df1-9091-6f2b596757a1",
   "metadata": {
    "tags": []
   },
   "outputs": [],
   "source": [
    "text_splitter = RecursiveCharacterTextSplitter(chunk_size=1024,\n",
    "                                               chunk_overlap=40)\n",
    "all_splits = text_splitter.split_documents(docs)\n",
    "all_splits[0]"
   ]
  },
  {
   "attachments": {},
   "cell_type": "markdown",
   "id": "6884f070",
   "metadata": {},
   "source": [
    "#### Cleanup documents. Remove the NUL character, '\\x00', in TEXT fields."
   ]
  },
  {
   "cell_type": "code",
   "execution_count": null,
   "id": "5aefc08d-a4ad-4aad-9120-cfa98b67cbe2",
   "metadata": {
    "tags": []
   },
   "outputs": [],
   "source": [
    "for doc in all_splits:\n",
    "    doc.page_content = doc.page_content.replace('\\x00', '')"
   ]
  },
  {
   "attachments": {},
   "cell_type": "markdown",
   "id": "7ae7eae2-c670-4eb5-803b-b4d591fa83db",
   "metadata": {},
   "source": [
    "#### Create the index and ingest the documents"
   ]
  },
  {
   "cell_type": "code",
   "execution_count": null,
   "id": "bbb6a3e3-5ccd-441e-b80d-427555d9e9f6",
   "metadata": {
    "tags": []
   },
   "outputs": [],
   "source": [
    "from langchain.vectorstores import ElasticsearchStore\n",
    "from elasticsearch import Elasticsearch\n",
    "\n",
    "embeddings = HuggingFaceEmbeddings()\n",
    "\n",
    "es = Elasticsearch(\n",
    "    \"https://\" + CONNECTION_STRING,\n",
    "    basic_auth=(\"elastic\", PASSWORD),\n",
    "    verify_certs=False\n",
    ")\n",
    "\n",
    "db = ElasticsearchStore(\n",
    "    embedding=embeddings,\n",
    "    index_name=\"rhoai-docs\",\n",
    "    es_connection=es\n",
    ")\n",
    "\n",
    "db.add_documents(all_splits)"
   ]
  },
  {
   "attachments": {},
   "cell_type": "markdown",
   "id": "dae3b458-4979-46df-8493-7496764a2568",
   "metadata": {},
   "source": [
    "#### Test query"
   ]
  },
  {
   "cell_type": "code",
   "execution_count": null,
   "id": "489c6e6d-c42c-4de4-87cf-8edfd0e63da3",
   "metadata": {
    "tags": []
   },
   "outputs": [],
   "source": [
    "query = \"How can I work with GPU and taints in OpenShift AI?\"\n",
    "docs_with_score = db.similarity_search_with_score(query)"
   ]
  },
  {
   "cell_type": "code",
   "execution_count": null,
   "id": "90feeb37-7888-4c5f-a5cb-5f82637cec16",
   "metadata": {
    "tags": []
   },
   "outputs": [],
   "source": [
    "for doc, score in docs_with_score:\n",
    "    print(\"-\" * 80)\n",
    "    print(\"Score: \", score)\n",
    "    print(doc.page_content)\n",
    "    print(\"-\" * 80)"
   ]
  },
  {
   "cell_type": "code",
   "execution_count": null,
   "id": "ccbfc7a0-9da9-4061-a506-67466cbe84e0",
   "metadata": {},
   "outputs": [],
   "source": []
  }
 ],
 "metadata": {
  "kernelspec": {
   "display_name": "Python 3 (ipykernel)",
   "language": "python",
   "name": "python3"
  },
  "language_info": {
   "codemirror_mode": {
    "name": "ipython",
    "version": 3
   },
   "file_extension": ".py",
   "mimetype": "text/x-python",
   "name": "python",
   "nbconvert_exporter": "python",
   "pygments_lexer": "ipython3",
   "version": "3.12.3"
  }
 },
 "nbformat": 4,
 "nbformat_minor": 5
}
